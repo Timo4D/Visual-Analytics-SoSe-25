{
 "cells": [
  {
   "cell_type": "code",
   "execution_count": 10,
   "id": "b14569b3",
   "metadata": {},
   "outputs": [],
   "source": [
    "import os\n",
    "import json\n",
    "import pandas as pd\n",
    "import numpy as np\n",
    "import joblib\n",
    "import shap\n",
    "import lime.lime_tabular\n",
    "from sklearn.preprocessing import LabelEncoder, StandardScaler\n",
    "from sklearn.decomposition import PCA\n",
    "from sklearn.ensemble import IsolationForest\n",
    "from sklearn.model_selection import train_test_split\n"
   ]
  },
  {
   "cell_type": "markdown",
   "id": "663af827",
   "metadata": {},
   "source": [
    "# Data Preperation"
   ]
  },
  {
   "cell_type": "code",
   "execution_count": 11,
   "id": "eb8e942e",
   "metadata": {},
   "outputs": [],
   "source": [
    "from sklearn.preprocessing import OrdinalEncoder\n",
    "\n",
    "df = pd.read_csv(\"../data/H1.csv\")\n",
    "df = df.drop(columns=['Company', 'Agent', 'ReservationStatusDate'], errors='ignore')\n",
    "\n",
    "cat_cols = df.select_dtypes(include='object').columns.tolist()\n",
    "encoder = OrdinalEncoder()\n",
    "df[cat_cols] = encoder.fit_transform(df[cat_cols].astype(str))\n"
   ]
  },
  {
   "cell_type": "code",
   "execution_count": 12,
   "id": "c724018b",
   "metadata": {},
   "outputs": [],
   "source": [
    "df.to_csv('artifacts/processed_data.csv', index=False)\n",
    "\n",
    "\n",
    "# Split target & features\n",
    "target = df['IsCanceled']\n",
    "# features = df.drop(columns=['IsCanceled'])\n",
    "\n",
    "normal_data = df[df['IsCanceled'] == 0]\n",
    "features = df.drop(columns=['IsCanceled'])\n",
    "\n",
    "# Create artifacts directory\n",
    "os.makedirs('artifacts', exist_ok=True)\n",
    "\n",
    "json.dump(features.columns.tolist(), open('artifacts/feature_names.json', 'w'))\n"
   ]
  },
  {
   "cell_type": "code",
   "execution_count": null,
   "id": "2001a1a1",
   "metadata": {},
   "outputs": [
    {
     "data": {
      "text/plain": [
       "['artifacts/iso_forest.joblib']"
      ]
     },
     "execution_count": 13,
     "metadata": {},
     "output_type": "execute_result"
    }
   ],
   "source": [
    "normal_data = df[df['IsCanceled'] == 0]\n",
    "abnormal_data = df[df['IsCanceled'] == 1]\n",
    "\n",
    "\n",
    "# Train-test split (for model evaluation)\n",
    "X_normal_train, X_normal_test = train_test_split(\n",
    "    normal_data.drop(columns=['IsCanceled']), test_size=0.3, random_state=42\n",
    ")\n",
    "\n",
    "X_abnormal_test = abnormal_data.drop(columns=['IsCanceled'])\n",
    "\n",
    "X_test = pd.concat([X_normal_test, X_abnormal_test])\n",
    "y_test = pd.Series(\n",
    "    [0] * len(X_normal_test) + [1] * len(X_abnormal_test), \n",
    "    index=X_test.index\n",
    ")"
   ]
  },
  {
   "cell_type": "markdown",
   "id": "d831d148",
   "metadata": {},
   "source": [
    "# Modeling"
   ]
  },
  {
   "cell_type": "code",
   "execution_count": null,
   "id": "6310da5f",
   "metadata": {},
   "outputs": [],
   "source": [
    "# Train Isolation Forest\n",
    "model = IsolationForest(n_estimators=150, contamination=0.30, random_state=104)\n",
    "model.fit(X_normal_train)\n",
    "joblib.dump(model, 'artifacts/iso_forest.joblib')\n"
   ]
  },
  {
   "cell_type": "markdown",
   "id": "887fc4e7",
   "metadata": {},
   "source": [
    "# Evaluation"
   ]
  },
  {
   "cell_type": "code",
   "execution_count": 14,
   "id": "a7155b58",
   "metadata": {},
   "outputs": [],
   "source": [
    "from sklearn.metrics import confusion_matrix\n",
    "import seaborn as sns\n",
    "\n",
    "import matplotlib.pyplot as plt\n",
    "\n",
    "# Predict anomalies on test set\n",
    "y_pred = model.predict(X_test)\n",
    "# IsolationForest: -1 = anomaly, 1 = normal\n",
    "# Convert to binary: 1 = anomaly, 0 = normal\n",
    "y_pred_bin = (y_pred == -1).astype(int)\n",
    "\n",
    "# Compute confusion matrix\n",
    "cm = confusion_matrix(y_test, y_pred_bin)\n",
    "\n",
    "# Plot and save confusion matrix\n",
    "plt.figure(figsize=(6, 5))\n",
    "sns.heatmap(cm, annot=True, fmt='d', cmap='Blues', xticklabels=['Normal', 'Anomaly'], yticklabels=['Normal', 'Anomaly'])\n",
    "plt.xlabel('Predicted')\n",
    "plt.ylabel('Actual')\n",
    "plt.title('Confusion Matrix')\n",
    "plt.tight_layout()\n",
    "plt.savefig('artifacts/confusion_matrix.png')\n",
    "plt.close()"
   ]
  },
  {
   "cell_type": "code",
   "execution_count": 15,
   "id": "75c9755c",
   "metadata": {},
   "outputs": [
    {
     "name": "stdout",
     "output_type": "stream",
     "text": [
      "Model performance metrics:\n",
      "balanced_accuracy: 0.4898\n",
      "precision: 0.5435\n",
      "recall: 0.2696\n",
      "f1_score: 0.3604\n"
     ]
    }
   ],
   "source": [
    "from sklearn.metrics import accuracy_score, precision_score, recall_score, f1_score\n",
    "from sklearn.metrics import balanced_accuracy_score\n",
    "\n",
    "# Calculate model performance metrics\n",
    "\n",
    "metrics = {\n",
    "    \"balanced_accuracy\": balanced_accuracy_score(y_test, y_pred_bin),\n",
    "    \"precision\": precision_score(y_test, y_pred_bin),\n",
    "    \"recall\": recall_score(y_test, y_pred_bin),\n",
    "    \"f1_score\": f1_score(y_test, y_pred_bin)\n",
    "}\n",
    "\n",
    "# Save metrics to JSON\n",
    "with open('artifacts/model_metrics.json', 'w') as f:\n",
    "    json.dump(metrics, f, indent=4)\n",
    "    \n",
    "print(\"Model performance metrics:\")\n",
    "for metric, value in metrics.items():\n",
    "    print(f\"{metric}: {value:.4f}\")"
   ]
  },
  {
   "cell_type": "code",
   "execution_count": 16,
   "id": "790c1a08",
   "metadata": {},
   "outputs": [],
   "source": [
    "# Compute SHAP explainer and values on full dataset\n",
    "shap_explainer = shap.TreeExplainer(model)\n",
    "shap_values = shap_explainer.shap_values(features)\n",
    "joblib.dump(shap_explainer, 'artifacts/shap_explainer.joblib')\n",
    "np.save('artifacts/shap_values.npy', shap_values)\n"
   ]
  },
  {
   "cell_type": "code",
   "execution_count": 17,
   "id": "f89371ea",
   "metadata": {},
   "outputs": [],
   "source": [
    "import dill\n",
    "\n",
    "# Build LIME explainer (use dill for pickling lambdas)\n",
    "lime_explainer = lime.lime_tabular.LimeTabularExplainer(\n",
    "    training_data=features.values,\n",
    "    feature_names=features.columns.tolist(),\n",
    "    class_names=['Normal', 'Anomaly'],\n",
    "    mode='classification',\n",
    "    verbose=False,\n",
    "    random_state=42\n",
    ")\n",
    "# Save with dill to handle lambdas\n",
    "with open('artifacts/lime_explainer.pkl', 'wb') as f:\n",
    "    dill.dump(lime_explainer, f)"
   ]
  },
  {
   "cell_type": "markdown",
   "id": "ac13ce37",
   "metadata": {},
   "source": [
    "# Deployment via Dashboard"
   ]
  }
 ],
 "metadata": {
  "kernelspec": {
   "display_name": ".venv",
   "language": "python",
   "name": "python3"
  },
  "language_info": {
   "codemirror_mode": {
    "name": "ipython",
    "version": 3
   },
   "file_extension": ".py",
   "mimetype": "text/x-python",
   "name": "python",
   "nbconvert_exporter": "python",
   "pygments_lexer": "ipython3",
   "version": "3.11.2"
  }
 },
 "nbformat": 4,
 "nbformat_minor": 5
}
