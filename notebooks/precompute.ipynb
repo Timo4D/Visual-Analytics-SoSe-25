{
 "cells": [
  {
   "cell_type": "code",
   "execution_count": 1,
   "id": "b14569b3",
   "metadata": {},
   "outputs": [
    {
     "name": "stderr",
     "output_type": "stream",
     "text": [
      "/home/timo/visual_analytics/.venv/lib/python3.11/site-packages/tqdm/auto.py:21: TqdmWarning: IProgress not found. Please update jupyter and ipywidgets. See https://ipywidgets.readthedocs.io/en/stable/user_install.html\n",
      "  from .autonotebook import tqdm as notebook_tqdm\n"
     ]
    }
   ],
   "source": [
    "import os\n",
    "import json\n",
    "import pandas as pd\n",
    "import numpy as np\n",
    "import joblib\n",
    "import shap\n",
    "import lime.lime_tabular\n",
    "from sklearn.preprocessing import LabelEncoder, StandardScaler\n",
    "from sklearn.decomposition import PCA\n",
    "from sklearn.ensemble import IsolationForest\n",
    "from sklearn.model_selection import train_test_split\n"
   ]
  },
  {
   "cell_type": "code",
   "execution_count": 4,
   "id": "eb8e942e",
   "metadata": {},
   "outputs": [],
   "source": [
    "df = pd.read_csv(\"../data/H1.csv\")\n",
    "df = df.drop(columns=['Company', 'Agent', 'ReservationStatusDate'], errors='ignore')\n",
    "\n",
    "# Encode categorical features\n",
    "cat_cols = df.select_dtypes(include='object').columns.tolist()\n",
    "encoders = {}\n",
    "for col in cat_cols:\n",
    "    le = LabelEncoder()\n",
    "    df[col] = le.fit_transform(df[col].astype(str))\n",
    "    encoders[col] = le"
   ]
  },
  {
   "cell_type": "code",
   "execution_count": 6,
   "id": "c724018b",
   "metadata": {},
   "outputs": [
    {
     "data": {
      "text/plain": [
       "['artifacts/pca3.joblib']"
      ]
     },
     "execution_count": 6,
     "metadata": {},
     "output_type": "execute_result"
    }
   ],
   "source": [
    "# Split target & features\n",
    "target = df['IsCanceled']\n",
    "features = df.drop(columns=['IsCanceled'])\n",
    "\n",
    "# Create artifacts directory\n",
    "os.makedirs('artifacts', exist_ok=True)\n",
    "\n",
    "# Save encoders and feature names\n",
    "joblib.dump(encoders, 'artifacts/encoders.joblib')\n",
    "json.dump(features.columns.tolist(), open('artifacts/feature_names.json', 'w'))\n",
    "\n",
    "# Scale data\n",
    "scaler = StandardScaler()\n",
    "X_scaled = scaler.fit_transform(features)\n",
    "joblib.dump(scaler, 'artifacts/scaler.joblib')\n",
    "\n",
    "# Fit PCA\n",
    "pca2 = PCA(n_components=2)\n",
    "pca3 = PCA(n_components=3)\n",
    "_ = pca2.fit_transform(X_scaled)\n",
    "_ = pca3.fit_transform(X_scaled)\n",
    "joblib.dump(pca2, 'artifacts/pca2.joblib')\n",
    "joblib.dump(pca3, 'artifacts/pca3.joblib')"
   ]
  },
  {
   "cell_type": "code",
   "execution_count": 7,
   "id": "2001a1a1",
   "metadata": {},
   "outputs": [
    {
     "data": {
      "text/plain": [
       "['artifacts/iso_forest.joblib']"
      ]
     },
     "execution_count": 7,
     "metadata": {},
     "output_type": "execute_result"
    }
   ],
   "source": [
    "# Train-test split (for model evaluation)\n",
    "X_train, X_test, y_train, y_test = train_test_split(\n",
    "    X_scaled, target, test_size=0.3, random_state=42, stratify=target\n",
    ")\n",
    "\n",
    "# Train Isolation Forest\n",
    "model = IsolationForest(n_estimators=100, contamination=0.05, random_state=42)\n",
    "model.fit(X_train)\n",
    "joblib.dump(model, 'artifacts/iso_forest.joblib')\n",
    "\n"
   ]
  },
  {
   "cell_type": "code",
   "execution_count": 8,
   "id": "790c1a08",
   "metadata": {},
   "outputs": [],
   "source": [
    "# Compute SHAP explainer and values on full dataset\n",
    "shap_explainer = shap.TreeExplainer(model)\n",
    "shap_values = shap_explainer.shap_values(X_scaled)\n",
    "joblib.dump(shap_explainer, 'artifacts/shap_explainer.joblib')\n",
    "np.save('artifacts/shap_values.npy', shap_values)\n"
   ]
  },
  {
   "cell_type": "code",
   "execution_count": 13,
   "id": "f89371ea",
   "metadata": {},
   "outputs": [],
   "source": [
    "import dill\n",
    "\n",
    "# Build LIME explainer (use dill for pickling lambdas)\n",
    "lime_explainer = lime.lime_tabular.LimeTabularExplainer(\n",
    "    training_data=X_scaled,\n",
    "    feature_names=features.columns.tolist(),\n",
    "    class_names=['Normal', 'Anomaly'],\n",
    "    mode='classification',\n",
    "    verbose=False,\n",
    "    random_state=42\n",
    ")\n",
    "# Save with dill to handle lambdas\n",
    "with open('artifacts/lime_explainer.pkl', 'wb') as f:\n",
    "    dill.dump(lime_explainer, f)"
   ]
  },
  {
   "cell_type": "code",
   "execution_count": null,
   "id": "0b9f75ed",
   "metadata": {},
   "outputs": [],
   "source": []
  }
 ],
 "metadata": {
  "kernelspec": {
   "display_name": ".venv",
   "language": "python",
   "name": "python3"
  },
  "language_info": {
   "codemirror_mode": {
    "name": "ipython",
    "version": 3
   },
   "file_extension": ".py",
   "mimetype": "text/x-python",
   "name": "python",
   "nbconvert_exporter": "python",
   "pygments_lexer": "ipython3",
   "version": "3.11.2"
  }
 },
 "nbformat": 4,
 "nbformat_minor": 5
}
