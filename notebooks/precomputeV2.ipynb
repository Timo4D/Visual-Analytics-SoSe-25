{
 "cells": [
  {
   "cell_type": "code",
   "execution_count": 1,
   "id": "b14569b3",
   "metadata": {},
   "outputs": [
    {
     "name": "stderr",
     "output_type": "stream",
     "text": [
      "/Users/kilianmuetz/Dev/Hochschule/Visual-Analytics-SoSe-25/venv/lib/python3.13/site-packages/tqdm/auto.py:21: TqdmWarning: IProgress not found. Please update jupyter and ipywidgets. See https://ipywidgets.readthedocs.io/en/stable/user_install.html\n",
      "  from .autonotebook import tqdm as notebook_tqdm\n"
     ]
    }
   ],
   "source": [
    "import os\n",
    "import json\n",
    "import pandas as pd\n",
    "import numpy as np\n",
    "import joblib\n",
    "import shap\n",
    "import lime.lime_tabular\n",
    "from sklearn.preprocessing import LabelEncoder, StandardScaler\n",
    "from sklearn.decomposition import PCA\n",
    "from sklearn.ensemble import IsolationForest\n",
    "from sklearn.model_selection import train_test_split\n"
   ]
  },
  {
   "cell_type": "code",
   "execution_count": 2,
   "id": "eb8e942e",
   "metadata": {},
   "outputs": [],
   "source": [
    "from sklearn.preprocessing import OrdinalEncoder\n",
    "\n",
    "df = pd.read_csv(\"../data/H1.csv\")\n",
    "df = df.drop(columns=['Company', 'Agent', 'ReservationStatusDate'], errors='ignore')\n",
    "\n",
    "cat_cols = df.select_dtypes(include='object').columns.tolist()\n",
    "encoder = OrdinalEncoder()\n",
    "df[cat_cols] = encoder.fit_transform(df[cat_cols].astype(str))\n"
   ]
  },
  {
   "cell_type": "code",
   "execution_count": 3,
   "id": "c724018b",
   "metadata": {},
   "outputs": [],
   "source": [
    "df.to_csv('artifacts/processed_data.csv', index=False)\n",
    "\n",
    "# Split target & features\n",
    "target = df['IsCanceled']\n",
    "# features = df.drop(columns=['IsCanceled'])\n",
    "\n",
    "normal_data = df[df['IsCanceled'] == 0]\n",
    "features = df.drop(columns=['IsCanceled'])\n",
    "\n",
    "# Create artifacts directory\n",
    "os.makedirs('artifacts', exist_ok=True)\n",
    "\n",
    "json.dump(features.columns.tolist(), open('artifacts/feature_names.json', 'w'))\n"
   ]
  },
  {
   "cell_type": "code",
   "execution_count": 4,
   "id": "2001a1a1",
   "metadata": {},
   "outputs": [
    {
     "data": {
      "text/plain": [
       "['artifacts/iso_forest.joblib']"
      ]
     },
     "execution_count": 4,
     "metadata": {},
     "output_type": "execute_result"
    }
   ],
   "source": [
    "# Train-test split (for model evaluation)\n",
    "X_train, X_test, y_train, y_test = train_test_split(\n",
    "    features, target, test_size=0.3, random_state=42, stratify=target\n",
    ")\n",
    "\n",
    "# Train Isolation Forest\n",
    "model = IsolationForest(n_estimators=100, contamination=0.27, random_state=42)\n",
    "model.fit(X_train)\n",
    "joblib.dump(model, 'artifacts/iso_forest.joblib')\n",
    "\n"
   ]
  },
  {
   "cell_type": "code",
   "execution_count": 5,
   "id": "a7155b58",
   "metadata": {},
   "outputs": [],
   "source": [
    "from sklearn.metrics import confusion_matrix\n",
    "import seaborn as sns\n",
    "\n",
    "import matplotlib.pyplot as plt\n",
    "\n",
    "# Predict anomalies on test set\n",
    "y_pred = model.predict(X_test)\n",
    "# IsolationForest: -1 = anomaly, 1 = normal\n",
    "# Convert to binary: 1 = anomaly, 0 = normal\n",
    "y_pred_bin = (y_pred == -1).astype(int)\n",
    "\n",
    "# Compute confusion matrix\n",
    "cm = confusion_matrix(y_test, y_pred_bin)\n",
    "\n",
    "# Plot and save confusion matrix\n",
    "plt.figure(figsize=(6, 5))\n",
    "sns.heatmap(cm, annot=True, fmt='d', cmap='Blues', xticklabels=['Normal', 'Anomaly'], yticklabels=['Normal', 'Anomaly'])\n",
    "plt.xlabel('Predicted')\n",
    "plt.ylabel('Actual')\n",
    "plt.title('Confusion Matrix')\n",
    "plt.tight_layout()\n",
    "plt.savefig('artifacts/confusion_matrix.png')\n",
    "plt.close()"
   ]
  },
  {
   "cell_type": "code",
   "execution_count": 6,
   "id": "75c9755c",
   "metadata": {},
   "outputs": [],
   "source": [
    "from sklearn.metrics import accuracy_score, precision_score, recall_score, f1_score\n",
    "from sklearn.metrics import balanced_accuracy_score\n",
    "\n",
    "# Calculate model performance metrics\n",
    "\n",
    "metrics = {\n",
    "    \"balanced_accuracy\": balanced_accuracy_score(y_test, y_pred_bin),\n",
    "    \"precision\": precision_score(y_test, y_pred_bin),\n",
    "    \"recall\": recall_score(y_test, y_pred_bin),\n",
    "    \"f1_score\": f1_score(y_test, y_pred_bin)\n",
    "}\n",
    "\n",
    "# Save metrics to JSON\n",
    "with open('artifacts/model_metrics.json', 'w') as f:\n",
    "    json.dump(metrics, f, indent=4)"
   ]
  },
  {
   "cell_type": "code",
   "execution_count": 7,
   "id": "790c1a08",
   "metadata": {},
   "outputs": [],
   "source": [
    "# Compute SHAP explainer and values on full dataset\n",
    "shap_explainer = shap.TreeExplainer(model)\n",
    "shap_values = shap_explainer.shap_values(features)\n",
    "joblib.dump(shap_explainer, 'artifacts/shap_explainer.joblib')\n",
    "np.save('artifacts/shap_values.npy', shap_values)\n"
   ]
  },
  {
   "cell_type": "code",
   "execution_count": 8,
   "id": "f89371ea",
   "metadata": {},
   "outputs": [],
   "source": [
    "import dill\n",
    "\n",
    "# Build LIME explainer (use dill for pickling lambdas)\n",
    "lime_explainer = lime.lime_tabular.LimeTabularExplainer(\n",
    "    training_data=features.values,\n",
    "    feature_names=features.columns.tolist(),\n",
    "    class_names=['Normal', 'Anomaly'],\n",
    "    mode='classification',\n",
    "    verbose=False,\n",
    "    random_state=42\n",
    ")\n",
    "# Save with dill to handle lambdas\n",
    "with open('artifacts/lime_explainer.pkl', 'wb') as f:\n",
    "    dill.dump(lime_explainer, f)"
   ]
  },
  {
   "cell_type": "code",
   "execution_count": null,
   "id": "0b9f75ed",
   "metadata": {},
   "outputs": [],
   "source": []
  }
 ],
 "metadata": {
  "kernelspec": {
   "display_name": "Python (VAXAI)",
   "language": "python",
   "name": "vaxai"
  },
  "language_info": {
   "codemirror_mode": {
    "name": "ipython",
    "version": 3
   },
   "file_extension": ".py",
   "mimetype": "text/x-python",
   "name": "python",
   "nbconvert_exporter": "python",
   "pygments_lexer": "ipython3",
   "version": "3.13.4"
  }
 },
 "nbformat": 4,
 "nbformat_minor": 5
}
